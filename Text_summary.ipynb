{
 "cells": [
  {
   "cell_type": "code",
   "execution_count": 1,
   "metadata": {},
   "outputs": [
    {
     "name": "stderr",
     "output_type": "stream",
     "text": [
      "Using TensorFlow backend.\n"
     ]
    }
   ],
   "source": [
    "import numpy as np  \n",
    "import pandas as pd \n",
    "import re           \n",
    "from bs4 import BeautifulSoup \n",
    "from keras.preprocessing.text import Tokenizer \n",
    "from keras.preprocessing.sequence import pad_sequences\n",
    "from nltk.corpus import stopwords\n",
    "import tensorflow as tf\n",
    "from tensorflow.python.keras.layers import Input, LSTM, Embedding, Dense, Concatenate, TimeDistributed, Bidirectional\n",
    "from tensorflow.python.keras.models import Model\n",
    "from tensorflow.python.keras.callbacks import EarlyStopping\n",
    "import warnings\n",
    "pd.set_option(\"display.max_colwidth\", 200)\n",
    "warnings.filterwarnings(\"ignore\")\n",
    "import numpy as np\n",
    "import pandas as pd\n",
    "import nltk\n",
    "import re"
   ]
  },
  {
   "cell_type": "code",
   "execution_count": 93,
   "metadata": {},
   "outputs": [],
   "source": [
    "df = pd.read_csv(\"/Users/Itua/Downloads/boe_articles2015.csv\",encoding='\"cp1252\"')\n"
   ]
  },
  {
   "cell_type": "code",
   "execution_count": 94,
   "metadata": {},
   "outputs": [
    {
     "data": {
      "text/plain": [
       "'The Bank of England has made great progress towards a single, unified institution that can exploit synergies across our policy functions. The Prudential Regulation Authority is already seeing the benefits of regulating banks and insurers in concert with monetary and macroeconomic policymaking. The One Bank plan set out an ambitious vision for an institution that could best discharge the enormous new powers and responsibilities bestowed on it following the global financial crisis, including the responsibility for prudential regulation of banks and insurers, the design and operation of macroprudential policy, and the conduct of monetary policy. Our objective is a unified, diverse, and talented institution, that delivers excellent analysis and outstanding execution, and that is transparent, professional and accountable to the public and to Parliament. We have achieved a lot in the last year in shaping the Bank of the future with the PRA at its heart. We are making our judgement-based approach to achieving the PRA’s objectives a reality, and we are embedding the PRA’s contribution to the Bank’s assessment of monetary and macroprudential stability. These achievements would not have been possible without the hard work and enthusiasm of my colleagues. The work of our supervisors, risk specialists and policy experts has been critical in reinforcing the ability of UK banks and insurers to serve the economy, and in reforming domestic, European and global prudential standards. We have harmonised our reward, compensation and terms and conditions across the Bank; implemented a new talent strategy, and put in place a new set of performance management tools; and embedded targets for diversity in our workforce. These measures will make the Bank a more attractive place to work, and allow for greater exchange of skills and experiences to and from the PRA. We have launched a Bank-wide effort to maximise our effectiveness on the international stage and an integrated research function that will drive cutting-edge research on issues right across our objectives, linking themes and deploying our expertise to undertake analysis that informs our policy decisions. The PRA has made substantial progress in bedding down a judgement-based supervisory approach and has quickly built a reputation as an independent, proportionate and responsive regulator. During the year we have built out our approach to fulfilling our secondary competition objective. While change within the Bank and PRA has been plentiful, the external and economic backdrop against which we operate has also presented a diverse range of challenges. The PRA remains at the heart of implementing agreed financial reforms. In the last twelve months the PRA has been focused on preparations for the introduction of the single biggest change in insurance supervision for a generation, Solvency II. We have led efforts to design and implement new frameworks to hold individuals accountable for their actions through our senior managers regimes, and to align risk with reward through updated rules on compensation. We have continued our implementation of Basel III and CRDIV reforms. And we have played an integral role in setting out the policy framework supporting another policy sea-change; the structural reform of banks in the United Kingdom. The Bank of England has made great progress towards a single, unified institution that can exploit synergies across our policy functions. The Prudential Regulation Authority is already seeing the benefits of regulating banks and insurers in concert with monetary and macroeconomic policymaking. Mark Carney Governor, Chair of the PRA Board 4 Prudential Regulation Authority Annual Report 2015 Foreword by the Chair I am pleased to be able to say that the forwardlooking judgements that are made daily by supervisors in the PRA increasingly draw on the diverse knowledge and expertise across the whole of the Bank of England. In turn, the knowledge gained from supervision and other parts of the PRA in turn informs and contributes to the Bank’s assessment of monetary and macroprudential stability. The most visible example was perhaps the first concurrent stress test of the UK banking system, which was developed and implemented jointly by the FPC and the PRA. This project combined the Bank’s assessment of the main domestic risks to UK financial stability with portfolio-level assessments undertaken by PRA specialists, to deliver an assessment of the strength of our largest banks individually as well as a view of the resilience of the banking system as a whole. The results showed not only that the capitalisation of UK banks had improved further over the course of 2014, but that the banking system would have the capacity to maintain its core functions, including lending to the real economy, in a stress scenario. The PRA will continue to work closely with the FPC regarding potential future policy actions, and with colleagues in the Bank’s Resolution Directorate to plan for bank resolution and to take steps to reduce the impact of failure. Measures like the introduction of Total Loss Absorbing Capacity will demand constant co-ordination to ensure benefits are maximised. Although much has been achieved there is still a great deal to do. We now turn our attention to continued efforts to strengthen and professionalise the Bank, to new and emerging risks, and to completing the job of reform. 2014 was a watershed year for the PRA in its own right and as part of the Bank of England. Taken together, our achievements illustrate the success of the PRA’s philosophy and our desire to exploit synergies across the Bank. While the PRA is a young organisation, its achievements in 2014 belied its youth.'"
      ]
     },
     "execution_count": 94,
     "metadata": {},
     "output_type": "execute_result"
    }
   ],
   "source": [
    "df['article_text'][0]"
   ]
  },
  {
   "cell_type": "code",
   "execution_count": 95,
   "metadata": {},
   "outputs": [],
   "source": [
    "from nltk.tokenize import sent_tokenize\n",
    "sentences = []\n",
    "for s in df['article_text']:\n",
    "  sentences.append(sent_tokenize(s))\n",
    "\n",
    "sentences = [y for x in sentences for y in x] # flatten list"
   ]
  },
  {
   "cell_type": "code",
   "execution_count": 96,
   "metadata": {},
   "outputs": [
    {
     "data": {
      "text/plain": [
       "['The Bank of England has made great progress towards a single, unified institution that can exploit synergies across our policy functions.']"
      ]
     },
     "execution_count": 96,
     "metadata": {},
     "output_type": "execute_result"
    }
   ],
   "source": [
    "sentences[:1]\n"
   ]
  },
  {
   "cell_type": "code",
   "execution_count": 61,
   "metadata": {},
   "outputs": [],
   "source": [
    "# Extract word vectors\n",
    "word_embeddings = {}\n",
    "f = open('glove.6B.100d.txt', encoding='utf-8')\n",
    "for line in f:\n",
    "    values = line.split()\n",
    "    word = values[0]\n",
    "    coefs = np.asarray(values[1:], dtype='float32')\n",
    "    word_embeddings[word] = coefs\n",
    "f.close()"
   ]
  },
  {
   "cell_type": "code",
   "execution_count": 97,
   "metadata": {},
   "outputs": [
    {
     "data": {
      "text/plain": [
       "400000"
      ]
     },
     "execution_count": 97,
     "metadata": {},
     "output_type": "execute_result"
    }
   ],
   "source": [
    "len(word_embeddings)\n"
   ]
  },
  {
   "cell_type": "code",
   "execution_count": 98,
   "metadata": {},
   "outputs": [],
   "source": [
    "# remove punctuations, numbers and special characters\n",
    "clean_sentences = pd.Series(sentences).str.replace(\"[^a-zA-Z]\", \" \")\n",
    "\n",
    "# make alphabets lowercase\n",
    "clean_sentences = [s.lower() for s in clean_sentences]"
   ]
  },
  {
   "cell_type": "code",
   "execution_count": 99,
   "metadata": {},
   "outputs": [],
   "source": [
    "#nltk.download('stopwords')"
   ]
  },
  {
   "cell_type": "code",
   "execution_count": 100,
   "metadata": {},
   "outputs": [],
   "source": [
    "from nltk.corpus import stopwords\n",
    "stop_words = stopwords.words('english')\n"
   ]
  },
  {
   "cell_type": "code",
   "execution_count": 101,
   "metadata": {},
   "outputs": [],
   "source": [
    "# function to remove stopwords\n",
    "def remove_stopwords(sen):\n",
    "    sen_new = \" \".join([i for i in sen if i not in stop_words])\n",
    "    return sen_new"
   ]
  },
  {
   "cell_type": "code",
   "execution_count": 102,
   "metadata": {},
   "outputs": [],
   "source": [
    "# remove stopwords from the sentences\n",
    "clean_sentences = [remove_stopwords(r.split()) for r in clean_sentences]"
   ]
  },
  {
   "cell_type": "code",
   "execution_count": 103,
   "metadata": {},
   "outputs": [],
   "source": [
    "# Extract word vectors\n",
    "word_embeddings = {}\n",
    "f = open('glove.6B.100d.txt', encoding='utf-8')\n",
    "for line in f:\n",
    "    values = line.split()\n",
    "    word = values[0]\n",
    "    coefs = np.asarray(values[1:], dtype='float32')\n",
    "    word_embeddings[word] = coefs\n",
    "f.close()"
   ]
  },
  {
   "cell_type": "code",
   "execution_count": 104,
   "metadata": {},
   "outputs": [],
   "source": [
    "sentence_vectors = []\n",
    "for i in clean_sentences:\n",
    "  if len(i) != 0:\n",
    "    v = sum([word_embeddings.get(w, np.zeros((100,))) for w in i.split()])/(len(i.split())+0.001)\n",
    "  else:\n",
    "    v = np.zeros((100,))\n",
    "  sentence_vectors.append(v)"
   ]
  },
  {
   "cell_type": "code",
   "execution_count": 105,
   "metadata": {},
   "outputs": [],
   "source": [
    "# similarity matrix\n",
    "sim_mat = np.zeros([len(sentences), len(sentences)])"
   ]
  },
  {
   "cell_type": "code",
   "execution_count": 106,
   "metadata": {},
   "outputs": [],
   "source": [
    "from sklearn.metrics.pairwise import cosine_similarity\n",
    "for i in range(len(sentences)):\n",
    "  for j in range(len(sentences)):\n",
    "    if i != j:\n",
    "      sim_mat[i][j] = cosine_similarity(sentence_vectors[i].reshape(1,100), sentence_vectors[j].reshape(1,100))[0,0]"
   ]
  },
  {
   "cell_type": "code",
   "execution_count": 107,
   "metadata": {},
   "outputs": [],
   "source": [
    "import networkx as nx\n",
    "\n",
    "nx_graph = nx.from_numpy_array(sim_mat)\n",
    "scores = nx.pagerank(nx_graph)"
   ]
  },
  {
   "cell_type": "code",
   "execution_count": 108,
   "metadata": {},
   "outputs": [],
   "source": [
    "ranked_sentences = sorted(((scores[i],s) for i,s in enumerate(sentences)), reverse=True)\n"
   ]
  },
  {
   "cell_type": "code",
   "execution_count": 109,
   "metadata": {},
   "outputs": [
    {
     "name": "stdout",
     "output_type": "stream",
     "text": [
      "The One Bank plan set out an ambitious vision for an institution that could best discharge the enormous new powers and responsibilities bestowed on it following the global financial crisis, including the responsibility for prudential regulation of banks and insurers, the design and operation of macroprudential policy, and the conduct of monetary policy.\n",
      "This project combined the Bank’s assessment of the main domestic risks to UK financial stability with portfolio-level assessments undertaken by PRA specialists, to deliver an assessment of the strength of our largest banks individually as well as a view of the resilience of the banking system as a whole.\n",
      "The Bank of England has made great progress towards a single, unified institution that can exploit synergies across our policy functions.\n",
      "The Bank of England has made great progress towards a single, unified institution that can exploit synergies across our policy functions.\n",
      "We have harmonised our reward, compensation and terms and conditions across the Bank; implemented a new talent strategy, and put in place a new set of performance management tools; and embedded targets for diversity in our workforce.\n",
      "And we have played an integral role in setting out the policy framework supporting another policy sea-change; the structural reform of banks in the United Kingdom.\n",
      "These measures will make the Bank a more attractive place to work, and allow for greater exchange of skills and experiences to and from the PRA.\n",
      "The results showed not only that the capitalisation of UK banks had improved further over the course of 2014, but that the banking system would have the capacity to maintain its core functions, including lending to the real economy, in a stress scenario.\n",
      "The PRA will continue to work closely with the FPC regarding potential future policy actions, and with colleagues in the Bank’s Resolution Directorate to plan for bank resolution and to take steps to reduce the impact of failure.\n",
      "We have launched a Bank-wide effort to maximise our effectiveness on the international stage and an integrated research function that will drive cutting-edge research on issues right across our objectives, linking themes and deploying our expertise to undertake analysis that informs our policy decisions.\n"
     ]
    }
   ],
   "source": [
    "# Extract top 10 sentences as the summary\n",
    "for i in range(10):\n",
    "  print(ranked_sentences[i][1])\n"
   ]
  },
  {
   "cell_type": "code",
   "execution_count": null,
   "metadata": {},
   "outputs": [],
   "source": []
  }
 ],
 "metadata": {
  "kernelspec": {
   "display_name": "learn-env",
   "language": "python",
   "name": "learn-env"
  },
  "language_info": {
   "codemirror_mode": {
    "name": "ipython",
    "version": 3
   },
   "file_extension": ".py",
   "mimetype": "text/x-python",
   "name": "python",
   "nbconvert_exporter": "python",
   "pygments_lexer": "ipython3",
   "version": "3.6.6"
  }
 },
 "nbformat": 4,
 "nbformat_minor": 4
}
